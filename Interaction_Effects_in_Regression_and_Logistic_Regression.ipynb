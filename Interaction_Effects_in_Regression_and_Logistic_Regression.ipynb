{
  "cells": [
    {
      "cell_type": "code",
      "execution_count": 2,
      "metadata": {
        "id": "cr2cvrG9isrN"
      },
      "outputs": [],
      "source": [
        "import numpy as np\n",
        "from sklearn import datasets\n",
        "import pandas as pd\n",
        "from sklearn.linear_model import LogisticRegression, LinearRegression\n",
        "from sklearn.model_selection import train_test_split\n",
        "from sklearn.preprocessing import RobustScaler\n",
        "from sklearn.metrics import confusion_matrix, classification_report\n",
        "import statsmodels.api as sm\n",
        "import statsmodels.formula.api as smf \n",
        "import math\n",
        "import seaborn as sns"
      ]
    },
    {
      "cell_type": "markdown",
      "metadata": {
        "id": "UV6-Z8wPisrQ"
      },
      "source": [
        "# Interactions in Regression, Fixed Effects in Regression and Logistic Regression\n",
        "\n",
        "In this project, we will be exploring the effects of interaction in Linear Regression and Logistic Regression. We will be going over how to interpret the coefficients of the interaction terms, and will also be looking at how they effect the model performance for both Logistic and Linear Regression.\n",
        "\n",
        "## Interaction effects in Linear Regression. \n",
        "First, we will start by fitting a Linear Regression model on the \"sales.csv\" dataset, to predict the total_sales for a new area using given sales from three areas. We will also include the interaction terms between different areas in our model, to see if synergy between them affect the sales in new area. We will be comparing the full interactionless model, with a model with interactions with respect to their $R^{2}$ values, and the significance of  coefficinets of interaction terms. We will also be giving insights on how to interpret the coefficients of interaction terms in Linear Regression. \n",
        "\n",
        "Generally, for a linear regression model with interaction:\n",
        "\n",
        "$$ Y = \\beta_{0} + \\beta_{1} * X_{1} + \\beta_{2} * X_{2} + \\beta_{3} * X_{1} * X_{2} $$\n",
        "\n",
        "The coefficient of the interaction term $\\beta_{3}$ is the increase in effectiveness of $X_{1}$ for a 1 unit change in $X_{2}$, and vice-versa. However, interpertrations might vary slightly based on types of variables interacting with each other(continuous, categorical, etc.)\n",
        "\n",
        "## Interpreting Coefficients and Interaction Effects in Logistic Regression \n",
        "Next, we will be fitting a full Logistic Regression model on the \"customer.csv\" dataset, to predict whether the customer will purchase the product. We will also be fitting alternative Logistic regression models trimmed over different features, and comparing them to the full model with respect to their in-sample $R^{2}$\"(pseudo). We will also be interpreting the coefficents of the best performing model. (For example, what effect does a positive or negative coefficient have on the model and so on)\n",
        "\n",
        "In general in Logistic Regression,\n",
        "\n",
        "$$ \\frac{p}{1-p} = exp[ \\beta_{0} + \\beta_{1} * X_{1} + ...+\\beta_{p} * X_{p}] $$\n",
        "\n",
        "$ e^{\\beta_{p}} $ is the odds multiplier for the unit increase in $ X_{p} $. In other words, 1 unit increase in  $ X_{p} $ will multiply the odds of variable of interest by $e^{\\beta_{p}}$.\n",
        "\n",
        "## Interaction Plots\n",
        "Last but not the least, we will be creating interaction plots between different variables in the \"customer.csv\" dataset, and commenting on how we can assess if there is interaction between variables looking the interaction plots. \n"
      ]
    },
    {
      "cell_type": "markdown",
      "source": [
        "# Interaction effects in Linear Regression."
      ],
      "metadata": {
        "id": "8FgfeKhqpjeg"
      }
    },
    {
      "cell_type": "markdown",
      "metadata": {
        "id": "S9yCeHB6isrV"
      },
      "source": [
        "First, let's explore the effects of interaction on the sales.csv dataset by fitting a Linear Regression model."
      ]
    },
    {
      "cell_type": "code",
      "execution_count": 15,
      "metadata": {
        "colab": {
          "base_uri": "https://localhost:8080/",
          "height": 206
        },
        "id": "QpSXP8hCisrV",
        "outputId": "27c8b7a3-2d5b-413d-eca6-c2396f7553d7"
      },
      "outputs": [
        {
          "output_type": "execute_result",
          "data": {
            "text/plain": [
              "   Unnamed: 0  area1_sales  area2_sales  area3_sales  total_sales\n",
              "0        1000         0.79         0.80         0.02         1.75\n",
              "1        1001         0.83         0.08         0.18         1.75\n",
              "2        1002         0.85         0.01         0.22         1.75\n",
              "3        1003         1.25         0.00         0.03         1.75\n",
              "4        1004         0.72         0.04         0.10         1.74"
            ],
            "text/html": [
              "\n",
              "  <div id=\"df-c6e4e075-fe60-4aac-93d6-d43a6bfc278f\">\n",
              "    <div class=\"colab-df-container\">\n",
              "      <div>\n",
              "<style scoped>\n",
              "    .dataframe tbody tr th:only-of-type {\n",
              "        vertical-align: middle;\n",
              "    }\n",
              "\n",
              "    .dataframe tbody tr th {\n",
              "        vertical-align: top;\n",
              "    }\n",
              "\n",
              "    .dataframe thead th {\n",
              "        text-align: right;\n",
              "    }\n",
              "</style>\n",
              "<table border=\"1\" class=\"dataframe\">\n",
              "  <thead>\n",
              "    <tr style=\"text-align: right;\">\n",
              "      <th></th>\n",
              "      <th>Unnamed: 0</th>\n",
              "      <th>area1_sales</th>\n",
              "      <th>area2_sales</th>\n",
              "      <th>area3_sales</th>\n",
              "      <th>total_sales</th>\n",
              "    </tr>\n",
              "  </thead>\n",
              "  <tbody>\n",
              "    <tr>\n",
              "      <th>0</th>\n",
              "      <td>1000</td>\n",
              "      <td>0.79</td>\n",
              "      <td>0.80</td>\n",
              "      <td>0.02</td>\n",
              "      <td>1.75</td>\n",
              "    </tr>\n",
              "    <tr>\n",
              "      <th>1</th>\n",
              "      <td>1001</td>\n",
              "      <td>0.83</td>\n",
              "      <td>0.08</td>\n",
              "      <td>0.18</td>\n",
              "      <td>1.75</td>\n",
              "    </tr>\n",
              "    <tr>\n",
              "      <th>2</th>\n",
              "      <td>1002</td>\n",
              "      <td>0.85</td>\n",
              "      <td>0.01</td>\n",
              "      <td>0.22</td>\n",
              "      <td>1.75</td>\n",
              "    </tr>\n",
              "    <tr>\n",
              "      <th>3</th>\n",
              "      <td>1003</td>\n",
              "      <td>1.25</td>\n",
              "      <td>0.00</td>\n",
              "      <td>0.03</td>\n",
              "      <td>1.75</td>\n",
              "    </tr>\n",
              "    <tr>\n",
              "      <th>4</th>\n",
              "      <td>1004</td>\n",
              "      <td>0.72</td>\n",
              "      <td>0.04</td>\n",
              "      <td>0.10</td>\n",
              "      <td>1.74</td>\n",
              "    </tr>\n",
              "  </tbody>\n",
              "</table>\n",
              "</div>\n",
              "      <button class=\"colab-df-convert\" onclick=\"convertToInteractive('df-c6e4e075-fe60-4aac-93d6-d43a6bfc278f')\"\n",
              "              title=\"Convert this dataframe to an interactive table.\"\n",
              "              style=\"display:none;\">\n",
              "        \n",
              "  <svg xmlns=\"http://www.w3.org/2000/svg\" height=\"24px\"viewBox=\"0 0 24 24\"\n",
              "       width=\"24px\">\n",
              "    <path d=\"M0 0h24v24H0V0z\" fill=\"none\"/>\n",
              "    <path d=\"M18.56 5.44l.94 2.06.94-2.06 2.06-.94-2.06-.94-.94-2.06-.94 2.06-2.06.94zm-11 1L8.5 8.5l.94-2.06 2.06-.94-2.06-.94L8.5 2.5l-.94 2.06-2.06.94zm10 10l.94 2.06.94-2.06 2.06-.94-2.06-.94-.94-2.06-.94 2.06-2.06.94z\"/><path d=\"M17.41 7.96l-1.37-1.37c-.4-.4-.92-.59-1.43-.59-.52 0-1.04.2-1.43.59L10.3 9.45l-7.72 7.72c-.78.78-.78 2.05 0 2.83L4 21.41c.39.39.9.59 1.41.59.51 0 1.02-.2 1.41-.59l7.78-7.78 2.81-2.81c.8-.78.8-2.07 0-2.86zM5.41 20L4 18.59l7.72-7.72 1.47 1.35L5.41 20z\"/>\n",
              "  </svg>\n",
              "      </button>\n",
              "      \n",
              "  <style>\n",
              "    .colab-df-container {\n",
              "      display:flex;\n",
              "      flex-wrap:wrap;\n",
              "      gap: 12px;\n",
              "    }\n",
              "\n",
              "    .colab-df-convert {\n",
              "      background-color: #E8F0FE;\n",
              "      border: none;\n",
              "      border-radius: 50%;\n",
              "      cursor: pointer;\n",
              "      display: none;\n",
              "      fill: #1967D2;\n",
              "      height: 32px;\n",
              "      padding: 0 0 0 0;\n",
              "      width: 32px;\n",
              "    }\n",
              "\n",
              "    .colab-df-convert:hover {\n",
              "      background-color: #E2EBFA;\n",
              "      box-shadow: 0px 1px 2px rgba(60, 64, 67, 0.3), 0px 1px 3px 1px rgba(60, 64, 67, 0.15);\n",
              "      fill: #174EA6;\n",
              "    }\n",
              "\n",
              "    [theme=dark] .colab-df-convert {\n",
              "      background-color: #3B4455;\n",
              "      fill: #D2E3FC;\n",
              "    }\n",
              "\n",
              "    [theme=dark] .colab-df-convert:hover {\n",
              "      background-color: #434B5C;\n",
              "      box-shadow: 0px 1px 3px 1px rgba(0, 0, 0, 0.15);\n",
              "      filter: drop-shadow(0px 1px 2px rgba(0, 0, 0, 0.3));\n",
              "      fill: #FFFFFF;\n",
              "    }\n",
              "  </style>\n",
              "\n",
              "      <script>\n",
              "        const buttonEl =\n",
              "          document.querySelector('#df-c6e4e075-fe60-4aac-93d6-d43a6bfc278f button.colab-df-convert');\n",
              "        buttonEl.style.display =\n",
              "          google.colab.kernel.accessAllowed ? 'block' : 'none';\n",
              "\n",
              "        async function convertToInteractive(key) {\n",
              "          const element = document.querySelector('#df-c6e4e075-fe60-4aac-93d6-d43a6bfc278f');\n",
              "          const dataTable =\n",
              "            await google.colab.kernel.invokeFunction('convertToInteractive',\n",
              "                                                     [key], {});\n",
              "          if (!dataTable) return;\n",
              "\n",
              "          const docLinkHtml = 'Like what you see? Visit the ' +\n",
              "            '<a target=\"_blank\" href=https://colab.research.google.com/notebooks/data_table.ipynb>data table notebook</a>'\n",
              "            + ' to learn more about interactive tables.';\n",
              "          element.innerHTML = '';\n",
              "          dataTable['output_type'] = 'display_data';\n",
              "          await google.colab.output.renderOutput(dataTable, element);\n",
              "          const docLink = document.createElement('div');\n",
              "          docLink.innerHTML = docLinkHtml;\n",
              "          element.appendChild(docLink);\n",
              "        }\n",
              "      </script>\n",
              "    </div>\n",
              "  </div>\n",
              "  "
            ]
          },
          "metadata": {},
          "execution_count": 15
        }
      ],
      "source": [
        "df = pd.read_csv(\"sales.csv\")\n",
        "df.head()"
      ]
    },
    {
      "cell_type": "markdown",
      "metadata": {
        "id": "xp43ITHuisrW"
      },
      "source": [
        "Let's start by running an interactionless model first."
      ]
    },
    {
      "cell_type": "code",
      "execution_count": 16,
      "metadata": {
        "id": "cO4psVHuisrZ"
      },
      "outputs": [],
      "source": [
        "## define x \n",
        "x = df[['area1_sales', 'area2_sales', 'area3_sales']]\n",
        "## define y as total_sales\n",
        "y = df['total_sales']"
      ]
    },
    {
      "cell_type": "code",
      "execution_count": 17,
      "metadata": {
        "colab": {
          "base_uri": "https://localhost:8080/"
        },
        "id": "-cz1PFlwisrZ",
        "outputId": "c41370bc-767b-46e9-e212-c96047c1ab35"
      },
      "outputs": [
        {
          "output_type": "stream",
          "name": "stdout",
          "text": [
            "R_squared:0.70210761690304\n",
            "     \n",
            "intercept:0.26007635540274676\n",
            "      \n",
            "coefficients:[0.91480749 0.74890866 1.71362962]\n"
          ]
        }
      ],
      "source": [
        "# build the linear regression model with x and y, then fit the regression model\n",
        "reg=LinearRegression().fit(x, y)\n",
        "print(f\"R_squared:{reg.score(x, y)}\") ## R_sqaured value\n",
        "print(\"     \")\n",
        "print(f\"intercept:{reg.intercept_}\")## intercept of the linear model\n",
        "print(\"      \")\n",
        "print(f\"coefficients:{reg.coef_}\")   ## coefficients of each variables"
      ]
    },
    {
      "cell_type": "markdown",
      "source": [
        "Great, we can see the in sample $R^{2}$ value, as well as the intercept and coefficients of variables. However, since the LinearRegression model from the sklearn.linear_model does not provide a built in summary let's also run OLS linear regression from the statsmodels.api library"
      ],
      "metadata": {
        "id": "rhpES-RSkMYQ"
      }
    },
    {
      "cell_type": "code",
      "execution_count": 18,
      "metadata": {
        "colab": {
          "base_uri": "https://localhost:8080/"
        },
        "id": "EC4B3B8Disra",
        "outputId": "8540700f-2569-45af-a68d-ca30ed31d2b4"
      },
      "outputs": [
        {
          "output_type": "stream",
          "name": "stdout",
          "text": [
            "                            OLS Regression Results                            \n",
            "==============================================================================\n",
            "Dep. Variable:            total_sales   R-squared:                       0.702\n",
            "Model:                            OLS   Adj. R-squared:                  0.702\n",
            "Method:                 Least Squares   F-statistic:                     2354.\n",
            "Date:                Mon, 01 May 2023   Prob (F-statistic):               0.00\n",
            "Time:                        23:21:42   Log-Likelihood:                 761.25\n",
            "No. Observations:                3000   AIC:                            -1515.\n",
            "Df Residuals:                    2996   BIC:                            -1490.\n",
            "Df Model:                           3                                         \n",
            "Covariance Type:            nonrobust                                         \n",
            "===============================================================================\n",
            "                  coef    std err          t      P>|t|      [0.025      0.975]\n",
            "-------------------------------------------------------------------------------\n",
            "const           0.2601      0.008     30.743      0.000       0.243       0.277\n",
            "area1_sales     0.9148      0.013     72.435      0.000       0.890       0.940\n",
            "area2_sales     0.7489      0.015     49.102      0.000       0.719       0.779\n",
            "area3_sales     1.7136      0.039     44.344      0.000       1.638       1.789\n",
            "==============================================================================\n",
            "Omnibus:                      482.733   Durbin-Watson:                   1.442\n",
            "Prob(Omnibus):                  0.000   Jarque-Bera (JB):             2611.741\n",
            "Skew:                           0.653   Prob(JB):                         0.00\n",
            "Kurtosis:                       7.380   Cond. No.                         12.7\n",
            "==============================================================================\n",
            "\n",
            "Notes:\n",
            "[1] Standard Errors assume that the covariance matrix of the errors is correctly specified.\n"
          ]
        }
      ],
      "source": [
        "x = sm.add_constant(x)\n",
        "model = sm.OLS(y,x).fit()\n",
        "print(model.summary())"
      ]
    },
    {
      "cell_type": "markdown",
      "source": [
        "Nice, looking at the coefficient of variables, we can see that sales of all 3 areas affect the sales in a new opened area."
      ],
      "metadata": {
        "id": "W5mNquuGn-bJ"
      }
    },
    {
      "cell_type": "markdown",
      "metadata": {
        "id": "iVy_Alojisrb"
      },
      "source": [
        "Perfect, Let's run the model with interaction, now."
      ]
    },
    {
      "cell_type": "code",
      "execution_count": 19,
      "metadata": {
        "colab": {
          "base_uri": "https://localhost:8080/",
          "height": 424
        },
        "id": "d9NSnX9Xisrb",
        "outputId": "7d4b0ca7-7708-4703-d322-267061d9946c"
      },
      "outputs": [
        {
          "output_type": "execute_result",
          "data": {
            "text/plain": [
              "      Unnamed: 0  area1_sales  area2_sales  area3_sales  total_sales  \\\n",
              "0           1000         0.79         0.80         0.02         1.75   \n",
              "1           1001         0.83         0.08         0.18         1.75   \n",
              "2           1002         0.85         0.01         0.22         1.75   \n",
              "3           1003         1.25         0.00         0.03         1.75   \n",
              "4           1004         0.72         0.04         0.10         1.74   \n",
              "...          ...          ...          ...          ...          ...   \n",
              "2995        3995         0.20         0.00         0.07         0.49   \n",
              "2996        3996         0.28         0.00         0.04         0.49   \n",
              "2997        3997         0.00         0.49         0.00         0.49   \n",
              "2998        3998         0.07         0.09         0.07         0.49   \n",
              "2999        3999         0.24         0.00         0.06         0.49   \n",
              "\n",
              "      interaction1_2  interaction1_3  interaction2_3  \n",
              "0             0.6320          0.0158          0.0160  \n",
              "1             0.0664          0.1494          0.0144  \n",
              "2             0.0085          0.1870          0.0022  \n",
              "3             0.0000          0.0375          0.0000  \n",
              "4             0.0288          0.0720          0.0040  \n",
              "...              ...             ...             ...  \n",
              "2995          0.0000          0.0140          0.0000  \n",
              "2996          0.0000          0.0112          0.0000  \n",
              "2997          0.0000          0.0000          0.0000  \n",
              "2998          0.0063          0.0049          0.0063  \n",
              "2999          0.0000          0.0144          0.0000  \n",
              "\n",
              "[3000 rows x 8 columns]"
            ],
            "text/html": [
              "\n",
              "  <div id=\"df-c08c7260-a1c7-479c-a479-2b788ec898fa\">\n",
              "    <div class=\"colab-df-container\">\n",
              "      <div>\n",
              "<style scoped>\n",
              "    .dataframe tbody tr th:only-of-type {\n",
              "        vertical-align: middle;\n",
              "    }\n",
              "\n",
              "    .dataframe tbody tr th {\n",
              "        vertical-align: top;\n",
              "    }\n",
              "\n",
              "    .dataframe thead th {\n",
              "        text-align: right;\n",
              "    }\n",
              "</style>\n",
              "<table border=\"1\" class=\"dataframe\">\n",
              "  <thead>\n",
              "    <tr style=\"text-align: right;\">\n",
              "      <th></th>\n",
              "      <th>Unnamed: 0</th>\n",
              "      <th>area1_sales</th>\n",
              "      <th>area2_sales</th>\n",
              "      <th>area3_sales</th>\n",
              "      <th>total_sales</th>\n",
              "      <th>interaction1_2</th>\n",
              "      <th>interaction1_3</th>\n",
              "      <th>interaction2_3</th>\n",
              "    </tr>\n",
              "  </thead>\n",
              "  <tbody>\n",
              "    <tr>\n",
              "      <th>0</th>\n",
              "      <td>1000</td>\n",
              "      <td>0.79</td>\n",
              "      <td>0.80</td>\n",
              "      <td>0.02</td>\n",
              "      <td>1.75</td>\n",
              "      <td>0.6320</td>\n",
              "      <td>0.0158</td>\n",
              "      <td>0.0160</td>\n",
              "    </tr>\n",
              "    <tr>\n",
              "      <th>1</th>\n",
              "      <td>1001</td>\n",
              "      <td>0.83</td>\n",
              "      <td>0.08</td>\n",
              "      <td>0.18</td>\n",
              "      <td>1.75</td>\n",
              "      <td>0.0664</td>\n",
              "      <td>0.1494</td>\n",
              "      <td>0.0144</td>\n",
              "    </tr>\n",
              "    <tr>\n",
              "      <th>2</th>\n",
              "      <td>1002</td>\n",
              "      <td>0.85</td>\n",
              "      <td>0.01</td>\n",
              "      <td>0.22</td>\n",
              "      <td>1.75</td>\n",
              "      <td>0.0085</td>\n",
              "      <td>0.1870</td>\n",
              "      <td>0.0022</td>\n",
              "    </tr>\n",
              "    <tr>\n",
              "      <th>3</th>\n",
              "      <td>1003</td>\n",
              "      <td>1.25</td>\n",
              "      <td>0.00</td>\n",
              "      <td>0.03</td>\n",
              "      <td>1.75</td>\n",
              "      <td>0.0000</td>\n",
              "      <td>0.0375</td>\n",
              "      <td>0.0000</td>\n",
              "    </tr>\n",
              "    <tr>\n",
              "      <th>4</th>\n",
              "      <td>1004</td>\n",
              "      <td>0.72</td>\n",
              "      <td>0.04</td>\n",
              "      <td>0.10</td>\n",
              "      <td>1.74</td>\n",
              "      <td>0.0288</td>\n",
              "      <td>0.0720</td>\n",
              "      <td>0.0040</td>\n",
              "    </tr>\n",
              "    <tr>\n",
              "      <th>...</th>\n",
              "      <td>...</td>\n",
              "      <td>...</td>\n",
              "      <td>...</td>\n",
              "      <td>...</td>\n",
              "      <td>...</td>\n",
              "      <td>...</td>\n",
              "      <td>...</td>\n",
              "      <td>...</td>\n",
              "    </tr>\n",
              "    <tr>\n",
              "      <th>2995</th>\n",
              "      <td>3995</td>\n",
              "      <td>0.20</td>\n",
              "      <td>0.00</td>\n",
              "      <td>0.07</td>\n",
              "      <td>0.49</td>\n",
              "      <td>0.0000</td>\n",
              "      <td>0.0140</td>\n",
              "      <td>0.0000</td>\n",
              "    </tr>\n",
              "    <tr>\n",
              "      <th>2996</th>\n",
              "      <td>3996</td>\n",
              "      <td>0.28</td>\n",
              "      <td>0.00</td>\n",
              "      <td>0.04</td>\n",
              "      <td>0.49</td>\n",
              "      <td>0.0000</td>\n",
              "      <td>0.0112</td>\n",
              "      <td>0.0000</td>\n",
              "    </tr>\n",
              "    <tr>\n",
              "      <th>2997</th>\n",
              "      <td>3997</td>\n",
              "      <td>0.00</td>\n",
              "      <td>0.49</td>\n",
              "      <td>0.00</td>\n",
              "      <td>0.49</td>\n",
              "      <td>0.0000</td>\n",
              "      <td>0.0000</td>\n",
              "      <td>0.0000</td>\n",
              "    </tr>\n",
              "    <tr>\n",
              "      <th>2998</th>\n",
              "      <td>3998</td>\n",
              "      <td>0.07</td>\n",
              "      <td>0.09</td>\n",
              "      <td>0.07</td>\n",
              "      <td>0.49</td>\n",
              "      <td>0.0063</td>\n",
              "      <td>0.0049</td>\n",
              "      <td>0.0063</td>\n",
              "    </tr>\n",
              "    <tr>\n",
              "      <th>2999</th>\n",
              "      <td>3999</td>\n",
              "      <td>0.24</td>\n",
              "      <td>0.00</td>\n",
              "      <td>0.06</td>\n",
              "      <td>0.49</td>\n",
              "      <td>0.0000</td>\n",
              "      <td>0.0144</td>\n",
              "      <td>0.0000</td>\n",
              "    </tr>\n",
              "  </tbody>\n",
              "</table>\n",
              "<p>3000 rows × 8 columns</p>\n",
              "</div>\n",
              "      <button class=\"colab-df-convert\" onclick=\"convertToInteractive('df-c08c7260-a1c7-479c-a479-2b788ec898fa')\"\n",
              "              title=\"Convert this dataframe to an interactive table.\"\n",
              "              style=\"display:none;\">\n",
              "        \n",
              "  <svg xmlns=\"http://www.w3.org/2000/svg\" height=\"24px\"viewBox=\"0 0 24 24\"\n",
              "       width=\"24px\">\n",
              "    <path d=\"M0 0h24v24H0V0z\" fill=\"none\"/>\n",
              "    <path d=\"M18.56 5.44l.94 2.06.94-2.06 2.06-.94-2.06-.94-.94-2.06-.94 2.06-2.06.94zm-11 1L8.5 8.5l.94-2.06 2.06-.94-2.06-.94L8.5 2.5l-.94 2.06-2.06.94zm10 10l.94 2.06.94-2.06 2.06-.94-2.06-.94-.94-2.06-.94 2.06-2.06.94z\"/><path d=\"M17.41 7.96l-1.37-1.37c-.4-.4-.92-.59-1.43-.59-.52 0-1.04.2-1.43.59L10.3 9.45l-7.72 7.72c-.78.78-.78 2.05 0 2.83L4 21.41c.39.39.9.59 1.41.59.51 0 1.02-.2 1.41-.59l7.78-7.78 2.81-2.81c.8-.78.8-2.07 0-2.86zM5.41 20L4 18.59l7.72-7.72 1.47 1.35L5.41 20z\"/>\n",
              "  </svg>\n",
              "      </button>\n",
              "      \n",
              "  <style>\n",
              "    .colab-df-container {\n",
              "      display:flex;\n",
              "      flex-wrap:wrap;\n",
              "      gap: 12px;\n",
              "    }\n",
              "\n",
              "    .colab-df-convert {\n",
              "      background-color: #E8F0FE;\n",
              "      border: none;\n",
              "      border-radius: 50%;\n",
              "      cursor: pointer;\n",
              "      display: none;\n",
              "      fill: #1967D2;\n",
              "      height: 32px;\n",
              "      padding: 0 0 0 0;\n",
              "      width: 32px;\n",
              "    }\n",
              "\n",
              "    .colab-df-convert:hover {\n",
              "      background-color: #E2EBFA;\n",
              "      box-shadow: 0px 1px 2px rgba(60, 64, 67, 0.3), 0px 1px 3px 1px rgba(60, 64, 67, 0.15);\n",
              "      fill: #174EA6;\n",
              "    }\n",
              "\n",
              "    [theme=dark] .colab-df-convert {\n",
              "      background-color: #3B4455;\n",
              "      fill: #D2E3FC;\n",
              "    }\n",
              "\n",
              "    [theme=dark] .colab-df-convert:hover {\n",
              "      background-color: #434B5C;\n",
              "      box-shadow: 0px 1px 3px 1px rgba(0, 0, 0, 0.15);\n",
              "      filter: drop-shadow(0px 1px 2px rgba(0, 0, 0, 0.3));\n",
              "      fill: #FFFFFF;\n",
              "    }\n",
              "  </style>\n",
              "\n",
              "      <script>\n",
              "        const buttonEl =\n",
              "          document.querySelector('#df-c08c7260-a1c7-479c-a479-2b788ec898fa button.colab-df-convert');\n",
              "        buttonEl.style.display =\n",
              "          google.colab.kernel.accessAllowed ? 'block' : 'none';\n",
              "\n",
              "        async function convertToInteractive(key) {\n",
              "          const element = document.querySelector('#df-c08c7260-a1c7-479c-a479-2b788ec898fa');\n",
              "          const dataTable =\n",
              "            await google.colab.kernel.invokeFunction('convertToInteractive',\n",
              "                                                     [key], {});\n",
              "          if (!dataTable) return;\n",
              "\n",
              "          const docLinkHtml = 'Like what you see? Visit the ' +\n",
              "            '<a target=\"_blank\" href=https://colab.research.google.com/notebooks/data_table.ipynb>data table notebook</a>'\n",
              "            + ' to learn more about interactive tables.';\n",
              "          element.innerHTML = '';\n",
              "          dataTable['output_type'] = 'display_data';\n",
              "          await google.colab.output.renderOutput(dataTable, element);\n",
              "          const docLink = document.createElement('div');\n",
              "          docLink.innerHTML = docLinkHtml;\n",
              "          element.appendChild(docLink);\n",
              "        }\n",
              "      </script>\n",
              "    </div>\n",
              "  </div>\n",
              "  "
            ]
          },
          "metadata": {},
          "execution_count": 19
        }
      ],
      "source": [
        "## create all interaction terms\n",
        "df['interaction1_2'] = df['area1_sales']*df['area2_sales']\n",
        "df['interaction1_3'] = df['area1_sales']*df['area3_sales']\n",
        "df['interaction2_3'] = df['area2_sales']*df['area3_sales']\n",
        "## display the dataframe with all the interaction terms\n",
        "df"
      ]
    },
    {
      "cell_type": "code",
      "execution_count": 20,
      "metadata": {
        "id": "EPNqhEmxisrc"
      },
      "outputs": [],
      "source": [
        "## define x as all the interaction terms\n",
        "x = df[['area1_sales', 'area2_sales', 'area3_sales', 'interaction1_2', 'interaction1_3', 'interaction2_3']]\n",
        "## define y as total_sales\n",
        "y = df['total_sales']"
      ]
    },
    {
      "cell_type": "code",
      "execution_count": 21,
      "metadata": {
        "colab": {
          "base_uri": "https://localhost:8080/"
        },
        "id": "XTVpjFu_isrc",
        "outputId": "a5952364-7f4b-4a35-fa4e-36250c12ee19"
      },
      "outputs": [
        {
          "output_type": "stream",
          "name": "stdout",
          "text": [
            "R_squared:0.7143088641667728\n",
            "     \n",
            "intercept:0.31318466529268485\n",
            "      \n",
            "coefficients:[0.77811731 0.63149627 1.22925513 0.41840793 1.21959518 1.2131021 ]\n"
          ]
        }
      ],
      "source": [
        "# build the linear regression model with x and y, then fit the regression model\n",
        "reg=LinearRegression().fit(x, y)\n",
        "print(f\"R_squared:{reg.score(x, y)}\") ## R_sqaured value\n",
        "print(\"     \")\n",
        "print(f\"intercept:{reg.intercept_}\")## intercept of the linear model\n",
        "print(\"      \")\n",
        "print(f\"coefficients:{reg.coef_}\")   ## coefficients of each variables"
      ]
    },
    {
      "cell_type": "code",
      "execution_count": 22,
      "metadata": {
        "colab": {
          "base_uri": "https://localhost:8080/"
        },
        "id": "MOe5RyVgisrd",
        "outputId": "3f8cd6f4-7524-4c41-e755-5ed3fd82c648"
      },
      "outputs": [
        {
          "output_type": "stream",
          "name": "stdout",
          "text": [
            "                            OLS Regression Results                            \n",
            "==============================================================================\n",
            "Dep. Variable:            total_sales   R-squared:                       0.714\n",
            "Model:                            OLS   Adj. R-squared:                  0.714\n",
            "Method:                 Least Squares   F-statistic:                     1247.\n",
            "Date:                Mon, 01 May 2023   Prob (F-statistic):               0.00\n",
            "Time:                        23:21:55   Log-Likelihood:                 823.99\n",
            "No. Observations:                3000   AIC:                            -1634.\n",
            "Df Residuals:                    2993   BIC:                            -1592.\n",
            "Df Model:                           6                                         \n",
            "Covariance Type:            nonrobust                                         \n",
            "==================================================================================\n",
            "                     coef    std err          t      P>|t|      [0.025      0.975]\n",
            "----------------------------------------------------------------------------------\n",
            "const              0.3132      0.010     32.165      0.000       0.294       0.332\n",
            "area1_sales        0.7781      0.018     42.424      0.000       0.742       0.814\n",
            "area2_sales        0.6315      0.019     33.324      0.000       0.594       0.669\n",
            "area3_sales        1.2293      0.064     19.106      0.000       1.103       1.355\n",
            "interaction1_2     0.4184      0.068      6.135      0.000       0.285       0.552\n",
            "interaction1_3     1.2196      0.140      8.714      0.000       0.945       1.494\n",
            "interaction2_3     1.2131      0.364      3.335      0.001       0.500       1.926\n",
            "==============================================================================\n",
            "Omnibus:                      542.646   Durbin-Watson:                   1.454\n",
            "Prob(Omnibus):                  0.000   Jarque-Bera (JB):             2551.796\n",
            "Skew:                           0.793   Prob(JB):                         0.00\n",
            "Kurtosis:                       7.231   Cond. No.                         121.\n",
            "==============================================================================\n",
            "\n",
            "Notes:\n",
            "[1] Standard Errors assume that the covariance matrix of the errors is correctly specified.\n"
          ]
        }
      ],
      "source": [
        "x = sm.add_constant(x)\n",
        "model = sm.OLS(y,x).fit()\n",
        "print(model.summary())"
      ]
    },
    {
      "cell_type": "markdown",
      "metadata": {
        "id": "4txaTMt-isre"
      },
      "source": [
        "Linear regression model:\n",
        "\n",
        "$$ Y = 0.3119028219659594 + 0.785215 * A_{1} + 0.651753 * A_{2} + 1.258301 * A_{3} + 0.199076* I_{12} + 1.088915 * I_{13} + 0.199401 *   I_{23} + 5.307762 $$\n",
        "\n",
        "\n",
        "For our linear regression model, we included all the possible combinations of double interaction terms\n",
        "\n",
        "All of the interaction terms are statistically significant, as we can see from the results of regression model. \n",
        "\n",
        "The R-squared value of the linear regression model with interaction is 0.714, which means 71.55% of the variation in the response variable can be explained by the predictor variables in this linear regression model. It is also increased by 1% compared to interactionless model.\n",
        "\n",
        "We can clearly see from the results of our regression model that, if we were to open a new area for sales, the interaction of sales from other areas would have an effect on the sales of new area. We can observe that by looking at the coefficients of interaction terms, and how almost all of them are statistically significant."
      ]
    },
    {
      "cell_type": "markdown",
      "source": [
        "Let's interpret one of the interaction terms now. \n",
        "\n",
        "The coefficient of the interaction term between area 1 and 2 is 0.4184. That means effect of area1 sales, on the new area goes up by 0.4184, for a unit increase in sales of area 2. \n",
        "\n",
        "We can also state this vice versa as in: \n",
        "Effectiveness of area2 sales, on the new area goes up by 0.4184, for a unit increase in sales of area 1. \n",
        "\n",
        "This interpretations are also applicable for every coefficient in this regression model. "
      ],
      "metadata": {
        "id": "4y87eDEtogXf"
      }
    },
    {
      "cell_type": "markdown",
      "metadata": {
        "id": "gBTwkaNKisre"
      },
      "source": [
        "# Interpreting Coefficients and Interaction Effects in Logistic Regression "
      ]
    },
    {
      "cell_type": "markdown",
      "source": [
        "Let's start by fitting a full Logistic Regression model on \"customer.csv\" dataset to predict Purchase"
      ],
      "metadata": {
        "id": "iMKRpdWTpsHq"
      }
    },
    {
      "cell_type": "code",
      "execution_count": 23,
      "metadata": {
        "colab": {
          "base_uri": "https://localhost:8080/"
        },
        "id": "UCl-cAPPisre",
        "outputId": "9b3b1c63-1e67-4610-acf1-775899625782"
      },
      "outputs": [
        {
          "output_type": "stream",
          "name": "stdout",
          "text": [
            "Optimization terminated successfully.\n",
            "         Current function value: 0.344804\n",
            "         Iterations 8\n",
            "                           Logit Regression Results                           \n",
            "==============================================================================\n",
            "Dep. Variable:              Purchased   No. Observations:                  400\n",
            "Model:                          Logit   Df Residuals:                      396\n",
            "Method:                           MLE   Df Model:                            3\n",
            "Date:                Mon, 01 May 2023   Pseudo R-squ.:                  0.4711\n",
            "Time:                        23:30:28   Log-Likelihood:                -137.92\n",
            "converged:                       True   LL-Null:                       -260.79\n",
            "Covariance Type:            nonrobust   LLR p-value:                 5.488e-53\n",
            "===================================================================================\n",
            "                      coef    std err          z      P>|z|      [0.025      0.975]\n",
            "-----------------------------------------------------------------------------------\n",
            "Intercept         -12.7836      1.359     -9.405      0.000     -15.448     -10.120\n",
            "Gender[T.Male]      0.3338      0.305      1.094      0.274      -0.264       0.932\n",
            "Age                 0.2370      0.026      8.984      0.000       0.185       0.289\n",
            "EstimatedSalary  3.644e-05   5.47e-06      6.659      0.000    2.57e-05    4.72e-05\n",
            "===================================================================================\n"
          ]
        }
      ],
      "source": [
        "df_cust = pd.read_csv('customer.csv')\n",
        "df_cust\n",
        "\n",
        "formula = 'Purchased ~ Gender + Age + EstimatedSalary'\n",
        "\n",
        "logistic_model = smf.logit(formula, df_cust)\n",
        "logistic_result = logistic_model.fit()\n",
        "print(logistic_result.summary())"
      ]
    },
    {
      "cell_type": "code",
      "execution_count": 28,
      "metadata": {
        "colab": {
          "base_uri": "https://localhost:8080/"
        },
        "id": "_TuXimuBisrf",
        "outputId": "aabdab39-a14a-409c-d2d1-bd1983ad44c1"
      },
      "outputs": [
        {
          "output_type": "stream",
          "name": "stdout",
          "text": [
            "Log-Likelihood Model: -137.92161268796147\n",
            "Log-Likelihood Null: -260.7864829137543\n",
            "Manual R^2: 0.4711320496868925\n",
            "Pseudo R^2: 0.4711320496868925\n"
          ]
        }
      ],
      "source": [
        "logit_llf = logistic_result.llf\n",
        "\n",
        "print(\"Log-Likelihood Model: \" + str(logit_llf))\n",
        "logit_llnull = logistic_result.llnull\n",
        "print(\"Log-Likelihood Null: \" + str(logit_llnull))\n",
        "\n",
        "### Here, we manually calculate the R^2 value, using 1 - (Log_likelihood/Log_Likelihood_Null)\n",
        "manual_r2= 1 - logit_llf/logit_llnull\n",
        "print(\"Manual R^2: \" + str(manual_r2))\n",
        "print(\"Pseudo R^2: \" + str(logistic_result.prsquared))\n",
        "\n"
      ]
    },
    {
      "cell_type": "markdown",
      "metadata": {
        "id": "PoaH1ByJisrg"
      },
      "source": [
        "Results of our Logistic Regression model show that, both Age and Estimated salary variables are statistically significant meaning that it has an effect on the dependent variable and that effect can be applied to larger population. However, Gender Variable comes out to be statistically insignificant meaning we cannot apply the effects of this variable to a general population.\n",
        "\n",
        "Additonally, our Pseudo R^2 and manually calculated R^2 values exactly match with each other."
      ]
    },
    {
      "cell_type": "markdown",
      "metadata": {
        "id": "kEVeqBWeisrg"
      },
      "source": [
        "Let's try running the same model using glm function."
      ]
    },
    {
      "cell_type": "code",
      "execution_count": 29,
      "metadata": {
        "colab": {
          "base_uri": "https://localhost:8080/"
        },
        "id": "6hys280Bisrg",
        "outputId": "b8a8c806-8988-4ffd-9792-d5cce3f7d9f6"
      },
      "outputs": [
        {
          "output_type": "stream",
          "name": "stdout",
          "text": [
            "                 Generalized Linear Model Regression Results                  \n",
            "==============================================================================\n",
            "Dep. Variable:              Purchased   No. Observations:                  400\n",
            "Model:                            GLM   Df Residuals:                      396\n",
            "Model Family:                Binomial   Df Model:                            3\n",
            "Link Function:                  Logit   Scale:                          1.0000\n",
            "Method:                          IRLS   Log-Likelihood:                -137.92\n",
            "Date:                Mon, 01 May 2023   Deviance:                       275.84\n",
            "Time:                        23:33:45   Pearson chi2:                     459.\n",
            "No. Iterations:                     6   Pseudo R-squ. (CS):             0.4590\n",
            "Covariance Type:            nonrobust                                         \n",
            "===================================================================================\n",
            "                      coef    std err          z      P>|z|      [0.025      0.975]\n",
            "-----------------------------------------------------------------------------------\n",
            "Intercept         -12.7836      1.359     -9.405      0.000     -15.448     -10.120\n",
            "Gender[T.Male]      0.3338      0.305      1.094      0.274      -0.264       0.932\n",
            "Age                 0.2370      0.026      8.984      0.000       0.185       0.289\n",
            "EstimatedSalary  3.644e-05   5.47e-06      6.659      0.000    2.57e-05    4.72e-05\n",
            "===================================================================================\n"
          ]
        }
      ],
      "source": [
        "formula = 'Purchased ~ Gender + Age + EstimatedSalary'\n",
        "logistic_model2 = smf.glm(formula = formula, data=df_cust, family=sm.families.Binomial())\n",
        "logistic_result2 = logistic_model2.fit()\n",
        "print(logistic_result2.summary())"
      ]
    },
    {
      "cell_type": "code",
      "execution_count": 30,
      "metadata": {
        "colab": {
          "base_uri": "https://localhost:8080/"
        },
        "id": "s7tP5Lj-isri",
        "outputId": "d9259029-1938-425c-d377-357e8336f04c"
      },
      "outputs": [
        {
          "output_type": "stream",
          "name": "stdout",
          "text": [
            "Deviance of Model: 275.8432253759229\n",
            "Deviance of Null-Model: 521.5729657959091\n",
            "Manual R^2: 0.4711320496548511\n",
            "McFadden’s pseudo-R^2: 0.471132049654851\n",
            "Cox&Snell's pseudo-R^2: 0.4589936978079343\n"
          ]
        }
      ],
      "source": [
        "logit_d = logistic_result2.deviance\n",
        "\n",
        "print(\"Deviance of Model: \" + str(logit_d))\n",
        "logit_dnull = logistic_result2.null_deviance\n",
        "logit_dnull\n",
        "print(\"Deviance of Null-Model: \" + str(logit_dnull))\n",
        "\n",
        "### Here, we manually calculate the R^2 value, using 1 - (Deviance/Null_Deviance)\n",
        "manual_r2= 1 - logit_d/logit_dnull\n",
        "print(\"Manual R^2: \" + str(manual_r2))\n",
        "print(\"McFadden’s pseudo-R^2: \" + str(logistic_result2.pseudo_rsquared(kind = 'mcf')))\n",
        "print(\"Cox&Snell's pseudo-R^2: \" + str(logistic_result2.pseudo_rsquared(kind = 'cs')))\n"
      ]
    },
    {
      "cell_type": "markdown",
      "metadata": {
        "id": "R89fyxfcisrj"
      },
      "source": [
        "Overall, We get to similar results by running the logistic regression model using glm() function. \n",
        "Gender dummy variable still comes out to be statistically insignificant meaning that its effect is not applicable for the whole population.\n",
        "Our Pseudo r-squared values from the regression summary comes out to be slighly different than the manual calculation result, becuase the manual calculation uses McFadden's calculation method for R^2 while the default pseudo r^2 returned by regression summary uses Cox&Snell's calculation method. "
      ]
    },
    {
      "cell_type": "markdown",
      "metadata": {
        "id": "xpfuHDxMisrj"
      },
      "source": [
        "We can try using Cox&Snell's calculation method manually to see what it will yield."
      ]
    },
    {
      "cell_type": "code",
      "execution_count": 31,
      "metadata": {
        "colab": {
          "base_uri": "https://localhost:8080/"
        },
        "id": "OeCYM0EOisrk",
        "outputId": "06409895-d2a4-4002-bcd4-a5d20ebecaf3"
      },
      "outputs": [
        {
          "output_type": "stream",
          "name": "stdout",
          "text": [
            "Log-Likelihood Model: -137.92161268796147\n",
            "Log-Likelihood Null: -260.78648289795456\n",
            "Manual calculation for Cox&Snell's pseudo-R^2: 0.4589936978079343\n"
          ]
        }
      ],
      "source": [
        "logit_llf2 = logistic_result2.llf\n",
        "\n",
        "print(\"Log-Likelihood Model: \" + str(logit_llf2))\n",
        "logit_llnull2 = logistic_result2.llnull\n",
        "print(\"Log-Likelihood Null: \" + str(logit_llnull2))\n",
        "\n",
        "manual_r2_c= 1 - math.exp((logit_llnull2-logit_llf2)*(2/len(df_cust.index)))\n",
        "\n",
        "print(\"Manual calculation for Cox&Snell's pseudo-R^2: \" + str(manual_r2_c))"
      ]
    },
    {
      "cell_type": "markdown",
      "metadata": {
        "id": "-ALd_Sjdisrk"
      },
      "source": [
        "Manual Calculation yields the same result suggested by the regression summary.\n",
        "\n",
        "From now on, I will use glm function by default to run the logistic regression models, for the sake of coherence and compare them using manually calculated McFaden's R^2. "
      ]
    },
    {
      "cell_type": "markdown",
      "metadata": {
        "id": "oV56rkukisrm"
      },
      "source": [
        "Now, Let's try trimmed models to see how they will perform. \n",
        "First, We will drop the gender dummy variable, since it came out to be insignificant, and run the regression model. "
      ]
    },
    {
      "cell_type": "code",
      "execution_count": 26,
      "metadata": {
        "colab": {
          "base_uri": "https://localhost:8080/"
        },
        "id": "YZYg3DkTisro",
        "outputId": "46b323d2-c711-4729-c5f4-dfca2dee565b"
      },
      "outputs": [
        {
          "output_type": "stream",
          "name": "stdout",
          "text": [
            "                 Generalized Linear Model Regression Results                  \n",
            "==============================================================================\n",
            "Dep. Variable:              Purchased   No. Observations:                  400\n",
            "Model:                            GLM   Df Residuals:                      397\n",
            "Model Family:                Binomial   Df Model:                            2\n",
            "Link Function:                  Logit   Scale:                          1.0000\n",
            "Method:                          IRLS   Log-Likelihood:                -138.53\n",
            "Date:                Mon, 01 May 2023   Deviance:                       277.05\n",
            "Time:                        23:33:21   Pearson chi2:                     467.\n",
            "No. Iterations:                     6   Pseudo R-squ. (CS):             0.4574\n",
            "Covariance Type:            nonrobust                                         \n",
            "===================================================================================\n",
            "                      coef    std err          z      P>|z|      [0.025      0.975]\n",
            "-----------------------------------------------------------------------------------\n",
            "Intercept         -12.4340      1.300     -9.566      0.000     -14.982      -9.886\n",
            "Age                 0.2335      0.026      9.013      0.000       0.183       0.284\n",
            "EstimatedSalary   3.59e-05   5.43e-06      6.613      0.000    2.53e-05    4.65e-05\n",
            "===================================================================================\n",
            "Deviance of Model: 277.05138239148346\n",
            "Deviance of Null-Model: 521.5729657959091\n",
            "Manual R^2: 0.4688156776517184\n",
            "McFadden’s pseudo-R^2: 0.4688156776517184\n",
            "Cox&Snell's pseudo-R^2: 0.4573571761845785\n"
          ]
        }
      ],
      "source": [
        "formula = 'Purchased ~ Age + EstimatedSalary'\n",
        "logistic_model3 = smf.glm(formula = formula, data=df_cust, family=sm.families.Binomial())\n",
        "logistic_result3 = logistic_model3.fit()\n",
        "print(logistic_result3.summary())\n",
        "\n",
        "logit_d = logistic_result3.deviance\n",
        "\n",
        "print(\"Deviance of Model: \" + str(logit_d))\n",
        "logit_dnull = logistic_result3.null_deviance\n",
        "logit_dnull\n",
        "print(\"Deviance of Null-Model: \" + str(logit_dnull))\n",
        "\n",
        "### Here, we manually calculate the R^2 value, using 1 - (Deviance/Null_Deviance)\n",
        "manual_r2= 1 - logit_d/logit_dnull\n",
        "print(\"Manual R^2: \" + str(manual_r2))\n",
        "print(\"McFadden’s pseudo-R^2: \" + str(logistic_result3.pseudo_rsquared(kind = 'mcf')))\n",
        "print(\"Cox&Snell's pseudo-R^2: \" + str(logistic_result3.pseudo_rsquared(kind = 'cs')))\n"
      ]
    },
    {
      "cell_type": "code",
      "execution_count": 32,
      "metadata": {
        "colab": {
          "base_uri": "https://localhost:8080/"
        },
        "id": "h-6eY9oXisro",
        "outputId": "3aaf8200-3008-422c-b7f5-074ee8fdcbdf"
      },
      "outputs": [
        {
          "output_type": "stream",
          "name": "stdout",
          "text": [
            "Pseudo R^2 from Trimmed Model: 0.4688156776517184\n",
            "Pseudo R^2 from Full Model: 0.471132049654851\n",
            "Deviance of Trimmed Model: 277.05138239148346\n",
            "Deviance of Full Model: 275.8432253759229\n"
          ]
        }
      ],
      "source": [
        "print(\"Pseudo R^2 from Trimmed Model: \" + str(logistic_result3.pseudo_rsquared(kind = 'mcf')))\n",
        "print(\"Pseudo R^2 from Full Model: \" + str(logistic_result2.pseudo_rsquared(kind = 'mcf')))\n",
        "print(\"Deviance of Trimmed Model: \" + str(logistic_result3.deviance))\n",
        "print(\"Deviance of Full Model: \" + str(logistic_result2.deviance))"
      ]
    },
    {
      "cell_type": "markdown",
      "metadata": {
        "id": "QiBOVvHGisrp"
      },
      "source": [
        "This model so far has performed pretty well. First of all, although we dropped a variable from the model, which in theory should affect our R^2 value negatively, it did not sacrifice much from it. In other words, although we did drop a single variable from the model, the R^2 value went down by a very small fraction, which is just the result of dropping variables on R^2. This indicates that 2 variable model, is performing as good as the full model, even considering that we have one less variable here. Although the deviance of the model is slightly increased too, that increase is very minimal as well. "
      ]
    },
    {
      "cell_type": "markdown",
      "metadata": {
        "id": "O_H3WA49isrp"
      },
      "source": [
        "We will try two more trimmed models with single variable to see how they perform."
      ]
    },
    {
      "cell_type": "code",
      "execution_count": 33,
      "metadata": {
        "colab": {
          "base_uri": "https://localhost:8080/"
        },
        "id": "qpkzTe5Oisrp",
        "outputId": "7fdacba5-7078-4dd5-f36a-4c8321ad9a85"
      },
      "outputs": [
        {
          "output_type": "stream",
          "name": "stdout",
          "text": [
            "                 Generalized Linear Model Regression Results                  \n",
            "==============================================================================\n",
            "Dep. Variable:              Purchased   No. Observations:                  400\n",
            "Model:                            GLM   Df Residuals:                      398\n",
            "Model Family:                Binomial   Df Model:                            1\n",
            "Link Function:                  Logit   Scale:                          1.0000\n",
            "Method:                          IRLS   Log-Likelihood:                -168.13\n",
            "Date:                Mon, 01 May 2023   Deviance:                       336.26\n",
            "Time:                        23:40:21   Pearson chi2:                     395.\n",
            "No. Iterations:                     5   Pseudo R-squ. (CS):             0.3708\n",
            "Covariance Type:            nonrobust                                         \n",
            "==============================================================================\n",
            "                 coef    std err          z      P>|z|      [0.025      0.975]\n",
            "------------------------------------------------------------------------------\n",
            "Intercept     -8.0441      0.784    -10.258      0.000      -9.581      -6.507\n",
            "Age            0.1889      0.019      9.866      0.000       0.151       0.226\n",
            "==============================================================================\n",
            "Deviance of Model: 336.261292285124\n",
            "Deviance of Null-Model: 521.5729657959091\n",
            "Manual R^2: 0.3552938623419707\n",
            "McFadden’s pseudo-R^2: 0.3552938623419707\n",
            "Cox&Snell's pseudo-R^2: 0.3707830591778979\n"
          ]
        }
      ],
      "source": [
        "formula = 'Purchased ~ Age'\n",
        "\n",
        "logistic_model4 = smf.glm(formula = formula, data=df_cust, family=sm.families.Binomial())\n",
        "logistic_result4 = logistic_model4.fit()\n",
        "print(logistic_result4.summary())\n",
        "\n",
        "logit_d = logistic_result4.deviance\n",
        "\n",
        "print(\"Deviance of Model: \" + str(logit_d))\n",
        "logit_dnull = logistic_result4.null_deviance\n",
        "logit_dnull\n",
        "print(\"Deviance of Null-Model: \" + str(logit_dnull))\n",
        "\n",
        "### Here, we manually calculate the R^2 value, using 1 - (Deviance/Null_Deviance)\n",
        "manual_r2= 1 - logit_d/logit_dnull\n",
        "print(\"Manual R^2: \" + str(manual_r2))\n",
        "print(\"McFadden’s pseudo-R^2: \" + str(logistic_result4.pseudo_rsquared(kind = 'mcf')))\n",
        "print(\"Cox&Snell's pseudo-R^2: \" + str(logistic_result4.pseudo_rsquared(kind = 'cs')))"
      ]
    },
    {
      "cell_type": "code",
      "execution_count": 34,
      "metadata": {
        "colab": {
          "base_uri": "https://localhost:8080/"
        },
        "id": "0bi_--urisrq",
        "outputId": "b9d429e1-9565-404c-ec07-530503e6c4c3"
      },
      "outputs": [
        {
          "output_type": "stream",
          "name": "stdout",
          "text": [
            "                 Generalized Linear Model Regression Results                  \n",
            "==============================================================================\n",
            "Dep. Variable:              Purchased   No. Observations:                  400\n",
            "Model:                            GLM   Df Residuals:                      398\n",
            "Model Family:                Binomial   Df Model:                            1\n",
            "Link Function:                  Logit   Scale:                          1.0000\n",
            "Method:                          IRLS   Log-Likelihood:                -233.86\n",
            "Date:                Mon, 01 May 2023   Deviance:                       467.73\n",
            "Time:                        23:40:28   Pearson chi2:                     426.\n",
            "No. Iterations:                     4   Pseudo R-squ. (CS):             0.1259\n",
            "Covariance Type:            nonrobust                                         \n",
            "===================================================================================\n",
            "                      coef    std err          z      P>|z|      [0.025      0.975]\n",
            "-----------------------------------------------------------------------------------\n",
            "Intercept          -2.3227      0.286     -8.134      0.000      -2.882      -1.763\n",
            "EstimatedSalary  2.387e-05   3.52e-06      6.790      0.000     1.7e-05    3.08e-05\n",
            "===================================================================================\n",
            "Deviance of Model: 467.7262027228761\n",
            "Deviance of Null-Model: 521.5729657959091\n",
            "Manual R^2: 0.10323917573232344\n",
            "McFadden’s pseudo-R^2: 0.10323917573232344\n",
            "Cox&Snell's pseudo-R^2: 0.12594931033725165\n"
          ]
        }
      ],
      "source": [
        "formula = 'Purchased ~ EstimatedSalary'\n",
        "\n",
        "logistic_model5 = smf.glm(formula = formula, data=df_cust, family=sm.families.Binomial())\n",
        "logistic_result5 = logistic_model5.fit()\n",
        "print(logistic_result5.summary())\n",
        "\n",
        "logit_d = logistic_result5.deviance\n",
        "\n",
        "print(\"Deviance of Model: \" + str(logit_d))\n",
        "logit_dnull = logistic_result5.null_deviance\n",
        "logit_dnull\n",
        "print(\"Deviance of Null-Model: \" + str(logit_dnull))\n",
        "\n",
        "### Here, we manually calculate the R^2 value, using 1 - (Deviance/Null_Deviance)\n",
        "manual_r2= 1 - logit_d/logit_dnull\n",
        "print(\"Manual R^2: \" + str(manual_r2))\n",
        "print(\"McFadden’s pseudo-R^2: \" + str(logistic_result5.pseudo_rsquared(kind = 'mcf')))\n",
        "print(\"Cox&Snell's pseudo-R^2: \" + str(logistic_result5.pseudo_rsquared(kind = 'cs')))"
      ]
    },
    {
      "cell_type": "markdown",
      "metadata": {
        "id": "ks6K1Nzsisrq"
      },
      "source": [
        "Both of the single variable models, ended up performing not that well. First model sacrified its r^2 value by more than 10% while the second model's r^2 value ended up decreasing by more than 20%. In each of those models, Deviance went up by about 100 and 200 respectively, as well. Everything mentioned above, are indicators that dropping those 2 variables from the model, will affect its performance negatively. \n",
        "\n",
        "In contrast to what we saw with the first trimmed model, where both deviance and r^2 values were affected by dropping a variable very negligibly, this was not the case for our single variable trimmed models. \n",
        "\n",
        "We will choose to interpret the first trimmed model, with Age and Salary variables, since it is the simplest model that does not sacrifice its performance by much, compared to a full model."
      ]
    },
    {
      "cell_type": "markdown",
      "metadata": {
        "id": "bi3oqOyUisrr"
      },
      "source": [
        "We will interpret the first trimmed model, where we regressed Purchased on Age and Estimated Salary due to the reasons stated above.\n",
        "Let's print the summary for the same model one more time. "
      ]
    },
    {
      "cell_type": "code",
      "execution_count": 35,
      "metadata": {
        "colab": {
          "base_uri": "https://localhost:8080/"
        },
        "id": "sRgOQfGaisrr",
        "outputId": "93b1cb28-f81e-4ece-ed19-5426adcec87a"
      },
      "outputs": [
        {
          "output_type": "stream",
          "name": "stdout",
          "text": [
            "                 Generalized Linear Model Regression Results                  \n",
            "==============================================================================\n",
            "Dep. Variable:              Purchased   No. Observations:                  400\n",
            "Model:                            GLM   Df Residuals:                      397\n",
            "Model Family:                Binomial   Df Model:                            2\n",
            "Link Function:                  Logit   Scale:                          1.0000\n",
            "Method:                          IRLS   Log-Likelihood:                -138.53\n",
            "Date:                Mon, 01 May 2023   Deviance:                       277.05\n",
            "Time:                        23:41:21   Pearson chi2:                     467.\n",
            "No. Iterations:                     6   Pseudo R-squ. (CS):             0.4574\n",
            "Covariance Type:            nonrobust                                         \n",
            "===================================================================================\n",
            "                      coef    std err          z      P>|z|      [0.025      0.975]\n",
            "-----------------------------------------------------------------------------------\n",
            "Intercept         -12.4340      1.300     -9.566      0.000     -14.982      -9.886\n",
            "Age                 0.2335      0.026      9.013      0.000       0.183       0.284\n",
            "EstimatedSalary   3.59e-05   5.43e-06      6.613      0.000    2.53e-05    4.65e-05\n",
            "===================================================================================\n",
            "Deviance of Model: 277.05138239148346\n",
            "Deviance of Null-Model: 521.5729657959091\n",
            "Manual R^2: 0.4688156776517184\n",
            "McFadden’s pseudo-R^2: 0.4688156776517184\n",
            "Cox&Snell's pseudo-R^2: 0.4573571761845785\n"
          ]
        }
      ],
      "source": [
        "formula = 'Purchased ~ Age + EstimatedSalary'\n",
        "logistic_model3 = smf.glm(formula = formula, data=df_cust, family=sm.families.Binomial())\n",
        "logistic_result3 = logistic_model3.fit()\n",
        "print(logistic_result3.summary())\n",
        "\n",
        "logit_d = logistic_result3.deviance\n",
        "\n",
        "print(\"Deviance of Model: \" + str(logit_d))\n",
        "logit_dnull = logistic_result3.null_deviance\n",
        "logit_dnull\n",
        "print(\"Deviance of Null-Model: \" + str(logit_dnull))\n",
        "\n",
        "### Here, we manually calculate the R^2 value, using 1 - (Deviance/Null_Deviance)\n",
        "manual_r2= 1 - logit_d/logit_dnull\n",
        "print(\"Manual R^2: \" + str(manual_r2))\n",
        "print(\"McFadden’s pseudo-R^2: \" + str(logistic_result3.pseudo_rsquared(kind = 'mcf')))\n",
        "print(\"Cox&Snell's pseudo-R^2: \" + str(logistic_result3.pseudo_rsquared(kind = 'cs')))\n"
      ]
    },
    {
      "cell_type": "markdown",
      "metadata": {
        "id": "SOKuaOCGisrs"
      },
      "source": [
        "Now, Let's interpret model's coefficients:\n",
        "\n",
        "Age: As we can see from the results, every one year increase in age, will multiply the ods of purchase by exp(0.2335).\n",
        "Interchangably, we can also say that one unit change in age, increases the log odds of purchasing by 0.2335. \n",
        "\n",
        "Estimated Salary: Similarly, every one dollar increase in salary, will multiply the ods of purchase by exp(3.59e-05).\n",
        "Interchangably, we can also say that one unit change in Salary, increases the log odds of purchasing by 3.59e-05. \n",
        "\n",
        "In General, coefficients in logistic regression mean that, odds of the dependent variable will be multiplied by exp(coefficient).\n",
        "\n",
        "When the coefficient is positive, that means the odds are going to be multiplied by a number that is bigger than 1, which means the odds of dependent variable will be increased.\n",
        "\n",
        "In contrast, When the coefficient is negative, that means the odds are going to be multiplied by a number that is less than 1, which means the odds of dependent variable will be decreased.\n",
        "\n",
        "As regards to the intercept, we can interpret it in terms of the probability of a customer purchasing(without any effects of Age and Salary) if we calculate the inverse logit using the following formula:\n",
        "\n",
        "exp(Intercept)/(1+exp(intercept))\n",
        "\n",
        "Which in our case:"
      ]
    },
    {
      "cell_type": "code",
      "execution_count": null,
      "metadata": {
        "id": "zJSpaXRdisrs",
        "outputId": "d5025bd2-1354-4851-fb87-ab6950125af3"
      },
      "outputs": [
        {
          "data": {
            "text/plain": [
              "3.980894636440643e-06"
            ]
          },
          "execution_count": 183,
          "metadata": {},
          "output_type": "execute_result"
        }
      ],
      "source": [
        "b0_int = math.exp(-12.4340)/(1+ math.exp(-12.4340))\n",
        "b0_int"
      ]
    },
    {
      "cell_type": "markdown",
      "metadata": {
        "id": "zKo_iLl7isrt"
      },
      "source": [
        "We get a value of, 3.980894636440643e-06, which is the default probability of a customer purchasing without any effects of age and salary. In our case that is not a true discovery, because we cannot have a customer with age of 0 and salary of 0. However, if there would be a such customer, that would be the probability of that customer making a purchase.\n",
        "\n",
        "In general, if the intercept of a Logistic Regression model has a negative sign, then the probability of having the outcome will be less than 0.5.\n",
        "If the intercept has a positive sign, then the probability of having the outcome will be greater than 0.5.\n",
        "If the intercept is equal to zero, then the probability of having the outcome will be exactly 0.5."
      ]
    },
    {
      "cell_type": "code",
      "execution_count": null,
      "metadata": {
        "id": "ImufXxbRisrt",
        "outputId": "a593404a-ea98-4718-8aea-1f20f606aa26"
      },
      "outputs": [
        {
          "name": "stdout",
          "output_type": "stream",
          "text": [
            "1.2630128278909127\n",
            "1.0000359006444126\n"
          ]
        }
      ],
      "source": [
        "### Calcuating Multipliers\n",
        "b1_int = math.exp(0.2335)\n",
        "b2_int = math.exp(3.59e-05)\n",
        "print(b1_int)\n",
        "print(b2_int)"
      ]
    },
    {
      "cell_type": "markdown",
      "metadata": {
        "id": "4SA0aSx7isrt"
      },
      "source": [
        "Circling back to coefficients, every 1 year increase in age will multiply the odds of purchase by 1.2630128278909127.\n",
        "Similarly, every 1 dollar increase in salary will multiply the odds of purchase by 1.0000359006444126.\n",
        "Both of these increase the odds of purchase, since the coefficients were positive."
      ]
    },
    {
      "cell_type": "markdown",
      "metadata": {
        "id": "7QmWnDRPisru"
      },
      "source": [
        "## Why Accuracy would not be a good metric to judge the model performance in our case?"
      ]
    },
    {
      "cell_type": "markdown",
      "metadata": {
        "id": "h-eLabHPisru"
      },
      "source": [
        "For our case, it is not a good idea to consider Accuracy as a good metric to judge the model. \n",
        "Mainly because our dataset is unbalanced. Let's take a closer look at the dataset:"
      ]
    },
    {
      "cell_type": "code",
      "execution_count": null,
      "metadata": {
        "id": "49R3o9ofisru",
        "outputId": "79ee7c39-806e-483a-db81-9ef9eee1a969"
      },
      "outputs": [
        {
          "name": "stdout",
          "output_type": "stream",
          "text": [
            "Number of 1's: 143\n",
            "Number of 0's: 257\n"
          ]
        }
      ],
      "source": [
        "print(\"Number of 1's: \" + str(df_cust['Purchased'].value_counts()[1]))\n",
        "print(\"Number of 0's: \" + str(df_cust['Purchased'].value_counts()[0]))"
      ]
    },
    {
      "cell_type": "markdown",
      "metadata": {
        "id": "DNXpjGXQisrv"
      },
      "source": [
        "As we can clearly see, number of 0 flags in our dataset is 257. That means even if our model predicts 0 values for every single one of customers by default, we will still get an Accuracy of more than 60%, which will be misleading.\n",
        "\n",
        "Thus, it will be a good idea to take into consideration other metrics to judge the model, such as ReCall or Precision. Both of those metrics rely on measuring the ratio of true positives from all the positive values and from all the predicticted values respectively.\n",
        "\n",
        "In a logistic regression model such as we have in our case, using Recall and Precision would be a better metric to judge the model, compared to Accuracy."
      ]
    },
    {
      "cell_type": "markdown",
      "metadata": {
        "id": "hooe88pIisrw"
      },
      "source": [
        "## Interaction Plots"
      ]
    },
    {
      "cell_type": "code",
      "execution_count": 36,
      "metadata": {
        "colab": {
          "base_uri": "https://localhost:8080/",
          "height": 523
        },
        "id": "6t5EMgEpisrw",
        "outputId": "ac70a68b-6a5f-4919-8503-cc468166a7e1"
      },
      "outputs": [
        {
          "output_type": "execute_result",
          "data": {
            "text/plain": [
              "<seaborn.axisgrid.FacetGrid at 0x7fd04b4632b0>"
            ]
          },
          "metadata": {},
          "execution_count": 36
        },
        {
          "output_type": "display_data",
          "data": {
            "text/plain": [
              "<Figure size 600.25x500 with 1 Axes>"
            ],
            "image/png": "[encoded data removed]"
          },
          "metadata": {}
        }
      ],
      "source": [
        "from statsmodels.graphics.factorplots import interaction_plot\n",
        "\n",
        "pal = dict(Male=\"#6495ED\", Female=\"#F08080\")\n",
        "g = sns.lmplot(x=\"Age\", y=\"Purchased\", hue=\"Gender\", data=df_cust,\n",
        "               palette=pal, y_jitter=.02, logistic=True, truncate=False)\n",
        "\n",
        "g.set(xlim=(0, 80), ylim=(-.05, 1.05))"
      ]
    },
    {
      "cell_type": "markdown",
      "metadata": {
        "id": "b1ESHXpmisrx"
      },
      "source": [
        "Y axis is the probability of purchase\n",
        "\n",
        "From the result of this interaction plot, we can clearly see that Interaction of Age and Gender, definitely has an effect on purchase.\n",
        "Firstly, we can clearly see that probability of purchasing increases as the age increases. \n",
        "Additionally, we can also see that Gender also has a changing effect on purchase as the age increases. \n"
      ]
    }
  ],
  "metadata": {
    "kernelspec": {
      "display_name": "Python 3",
      "language": "python",
      "name": "python3"
    },
    "language_info": {
      "codemirror_mode": {
        "name": "ipython",
        "version": 3
      },
      "file_extension": ".py",
      "mimetype": "text/x-python",
      "name": "python",
      "nbconvert_exporter": "python",
      "pygments_lexer": "ipython3",
      "version": "3.9.6"
    },
    "orig_nbformat": 4,
    "vscode": {
      "interpreter": {
        "hash": "aee8b7b246df8f9039afb4144a1f6fd8d2ca17a180786b69acc140d282b71a49"
      }
    },
    "colab": {
      "provenance": []
    }
  },
  "nbformat": 4,
  "nbformat_minor": 0
}